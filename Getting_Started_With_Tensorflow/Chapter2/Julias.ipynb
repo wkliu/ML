{
 "cells": [
  {
   "cell_type": "code",
   "execution_count": null,
   "metadata": {},
   "outputs": [],
   "source": [
    "import tensorflow as tf\n",
    "import numpy as np\n",
    "import matplotlib.pyplot as plt"
   ]
  },
  {
   "cell_type": "raw",
   "metadata": {},
   "source": [
    "Prepare the data for Julia's set\n",
    "Let's define the output complex plane. It is between -2 and +2 on the real axis and between -2j and +2j on the imaginary axis:"
   ]
  },
  {
   "cell_type": "code",
   "execution_count": null,
   "metadata": {},
   "outputs": [],
   "source": [
    "Y, X = np.mgrid[-2:2:0.005, -2:2:0.005]\n",
    "Z = X+1j*Y\n",
    "Z = tf.constant(Z.astype(\"complex64\"))\n",
    "zs = tf.Variable(Z)\n",
    "ns = tf.Variable(tf.zeros_like(Z, \"float32\"))"
   ]
  },
  {
   "cell_type": "raw",
   "metadata": {},
   "source": [
    "Build and execute the Data Flow Graph for Julia's\n",
    "set"
   ]
  },
  {
   "cell_type": "raw",
   "metadata": {},
   "source": [
    "tf.initialize_all_variables().run() changed to tf.global_variables_initializer().run()\n",
    "\n",
    "tf.complex_abs(zs_) changed to tf.abs(zs_)"
   ]
  },
  {
   "cell_type": "code",
   "execution_count": null,
   "metadata": {},
   "outputs": [],
   "source": [
    "sess = tf.InteractiveSession()\n",
    "tf.global_variables_initializer().run()\n",
    "c = complex(0.0,0.75)\n",
    "zs_ = zs*zs - c\n",
    "not_diverged = tf.abs(zs_) < 4\n",
    "step = tf.group(zs.assign(zs_),ns.assign_add(tf.cast(not_diverged, \"float32\")))\n",
    "for i in range(200): step.run()"
   ]
  },
  {
   "cell_type": "code",
   "execution_count": null,
   "metadata": {},
   "outputs": [],
   "source": [
    "plt.imshow(ns.eval())\n",
    "plt.show()"
   ]
  }
 ],
 "metadata": {
  "kernelspec": {
   "display_name": "Python 3",
   "language": "python",
   "name": "python3"
  },
  "language_info": {
   "codemirror_mode": {
    "name": "ipython",
    "version": 3
   },
   "file_extension": ".py",
   "mimetype": "text/x-python",
   "name": "python",
   "nbconvert_exporter": "python",
   "pygments_lexer": "ipython3",
   "version": "3.6.6"
  }
 },
 "nbformat": 4,
 "nbformat_minor": 2
}
